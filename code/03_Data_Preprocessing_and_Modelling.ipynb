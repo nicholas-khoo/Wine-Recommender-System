{
 "cells": [
  {
   "cell_type": "markdown",
   "id": "96626dcf-e75e-4188-9da2-48bc6fc5d964",
   "metadata": {},
   "source": [
    "# Import Libraries"
   ]
  },
  {
   "cell_type": "code",
   "execution_count": 1,
   "id": "77f54705-5f8c-4c93-a8de-2eca3edf1bc3",
   "metadata": {},
   "outputs": [],
   "source": [
    "import pandas as pd\n",
    "import string\n",
    "from nltk.tokenize import word_tokenize, sent_tokenize\n",
    "from nltk.corpus import stopwords\n",
    "from nltk.stem.snowball import SnowballStemmer\n",
    "from gensim.models.phrases import Phrases, Phraser\n",
    "from sklearn.feature_extraction.text import CountVectorizer\n",
    "import numpy as np\n",
    "import matplotlib.pyplot as plt\n",
    "import seaborn as sns\n",
    "from tqdm import tqdm\n",
    "from collections import defaultdict\n",
    "from random import sample, choice, seed\n",
    "from surprise import (Dataset, Reader, accuracy, NormalPredictor, BaselineOnly,\n",
    "                      KNNBasic, KNNWithMeans, KNNWithZScore, KNNBaseline,\n",
    "                      SVD, NMF, SlopeOne, CoClustering, SVDpp)\n",
    "from surprise.model_selection import cross_validate, KFold, GridSearchCV, PredefinedKFold"
   ]
  },
  {
   "cell_type": "code",
   "execution_count": 2,
   "id": "7a42206b-dfbc-42de-b1bf-c91db4f21a30",
   "metadata": {},
   "outputs": [],
   "source": [
    "pd.options.display.max_colwidth = 1000"
   ]
  },
  {
   "cell_type": "code",
   "execution_count": 3,
   "id": "397a166e-7cae-43f7-8e52-af94873f4b72",
   "metadata": {},
   "outputs": [],
   "source": [
    "# import data\n",
    "wine_data = pd.read_csv('../data/filtered_wine.csv')\n",
    "descriptor_data = pd.read_csv('../data/descriptor_mapping.csv')"
   ]
  },
  {
   "cell_type": "code",
   "execution_count": 4,
   "id": "cf8e7d68-2798-4551-bf2f-e55047a212da",
   "metadata": {},
   "outputs": [
    {
     "data": {
      "text/html": [
       "<div>\n",
       "<style scoped>\n",
       "    .dataframe tbody tr th:only-of-type {\n",
       "        vertical-align: middle;\n",
       "    }\n",
       "\n",
       "    .dataframe tbody tr th {\n",
       "        vertical-align: top;\n",
       "    }\n",
       "\n",
       "    .dataframe thead th {\n",
       "        text-align: right;\n",
       "    }\n",
       "</style>\n",
       "<table border=\"1\" class=\"dataframe\">\n",
       "  <thead>\n",
       "    <tr style=\"text-align: right;\">\n",
       "      <th></th>\n",
       "      <th>country</th>\n",
       "      <th>description</th>\n",
       "      <th>designation</th>\n",
       "      <th>points</th>\n",
       "      <th>price</th>\n",
       "      <th>province</th>\n",
       "      <th>region_1</th>\n",
       "      <th>region_2</th>\n",
       "      <th>taster_name</th>\n",
       "      <th>title</th>\n",
       "      <th>variety</th>\n",
       "      <th>winery</th>\n",
       "    </tr>\n",
       "  </thead>\n",
       "  <tbody>\n",
       "    <tr>\n",
       "      <th>0</th>\n",
       "      <td>US</td>\n",
       "      <td>Thick and brooding, this dark, sweetly tannic wine also offers higher-toned elements of cedar, dried herb and graphite. It finds its balance amid a full-bodied density of fruit concentration and girth of structure. Drink now through 2023.</td>\n",
       "      <td>K Block</td>\n",
       "      <td>91</td>\n",
       "      <td>85.0</td>\n",
       "      <td>California</td>\n",
       "      <td>Spring Mountain District</td>\n",
       "      <td>Napa</td>\n",
       "      <td>Virginie Boone</td>\n",
       "      <td>Terra Valentine 2013 K Block Cabernet Sauvignon (Spring Mountain District)</td>\n",
       "      <td>Cabernet Sauvignon</td>\n",
       "      <td>Terra Valentine</td>\n",
       "    </tr>\n",
       "    <tr>\n",
       "      <th>1</th>\n",
       "      <td>US</td>\n",
       "      <td>Cooked cranberry is spiced with anise, peppercorn and roasted beef slices on this bottling from a vineyard planted by three brothers who are longtime Salinas Valley farmers. The palate shows dark cranberry and raspberry, spiced up by chopped sage, thyme and bay leaf.</td>\n",
       "      <td>Guidotti Vineyard</td>\n",
       "      <td>91</td>\n",
       "      <td>64.0</td>\n",
       "      <td>California</td>\n",
       "      <td>Santa Lucia Highlands</td>\n",
       "      <td>Central Coast</td>\n",
       "      <td>Matt Kettmann</td>\n",
       "      <td>Testarossa 2013 Guidotti Vineyard Pinot Noir (Santa Lucia Highlands)</td>\n",
       "      <td>Pinot Noir</td>\n",
       "      <td>Testarossa</td>\n",
       "    </tr>\n",
       "    <tr>\n",
       "      <th>2</th>\n",
       "      <td>US</td>\n",
       "      <td>There's a touch of hot asphalt, pencil lead and miso on the nose of this first vintage from a promising, well-funded project, with dark elderberry fruit and dried dill rounding out the aromas. The palate blends a gamy beef quality with oregano, marjoram, cooked strawberry, baked blackberry and a sesame-oil character.</td>\n",
       "      <td>Family Reserve</td>\n",
       "      <td>91</td>\n",
       "      <td>68.0</td>\n",
       "      <td>California</td>\n",
       "      <td>Santa Ynez Valley</td>\n",
       "      <td>Central Coast</td>\n",
       "      <td>Matt Kettmann</td>\n",
       "      <td>Vincent Vineyards 2010 Family Reserve Cabernet Sauvignon (Santa Ynez Valley)</td>\n",
       "      <td>Cabernet Sauvignon</td>\n",
       "      <td>Vincent Vineyards</td>\n",
       "    </tr>\n",
       "    <tr>\n",
       "      <th>3</th>\n",
       "      <td>US</td>\n",
       "      <td>Black cherry, black plum and black currant are integrated well into the fresh dill and smoke scents on the nose of this wine from one of the region's newest properties. It discloses a rich dark-chocolate sauce character on the palate as well as black-currant-jelly flavors, but most impressive is the lush, sexy and soft mouthfeel.</td>\n",
       "      <td>Family Reserve</td>\n",
       "      <td>91</td>\n",
       "      <td>68.0</td>\n",
       "      <td>California</td>\n",
       "      <td>Santa Ynez Valley</td>\n",
       "      <td>Central Coast</td>\n",
       "      <td>Matt Kettmann</td>\n",
       "      <td>Vincent Vineyards 2012 Family Reserve Cabernet Sauvignon (Santa Ynez Valley)</td>\n",
       "      <td>Cabernet Sauvignon</td>\n",
       "      <td>Vincent Vineyards</td>\n",
       "    </tr>\n",
       "    <tr>\n",
       "      <th>4</th>\n",
       "      <td>US</td>\n",
       "      <td>Smashed blackberry and blueberry fruit are enhanced by burned caramel, heavy slate and touches of soy and smoke on the nose. There's great depth in both body and flavors once sipped, with a layer of fine-grained tannins revealing teriyaki, black plum, boysenberry and touches of lavender.</td>\n",
       "      <td>Destruction Level</td>\n",
       "      <td>91</td>\n",
       "      <td>35.0</td>\n",
       "      <td>California</td>\n",
       "      <td>Monterey</td>\n",
       "      <td>Central Coast</td>\n",
       "      <td>Matt Kettmann</td>\n",
       "      <td>Wrath 2013 Destruction Level Red (Monterey)</td>\n",
       "      <td>Rhône-style Red Blend</td>\n",
       "      <td>Wrath</td>\n",
       "    </tr>\n",
       "  </tbody>\n",
       "</table>\n",
       "</div>"
      ],
      "text/plain": [
       "  country  \\\n",
       "0      US   \n",
       "1      US   \n",
       "2      US   \n",
       "3      US   \n",
       "4      US   \n",
       "\n",
       "                                                                                                                                                                                                                                                                                                                                   description  \\\n",
       "0                                                                                               Thick and brooding, this dark, sweetly tannic wine also offers higher-toned elements of cedar, dried herb and graphite. It finds its balance amid a full-bodied density of fruit concentration and girth of structure. Drink now through 2023.   \n",
       "1                                                                  Cooked cranberry is spiced with anise, peppercorn and roasted beef slices on this bottling from a vineyard planted by three brothers who are longtime Salinas Valley farmers. The palate shows dark cranberry and raspberry, spiced up by chopped sage, thyme and bay leaf.   \n",
       "2               There's a touch of hot asphalt, pencil lead and miso on the nose of this first vintage from a promising, well-funded project, with dark elderberry fruit and dried dill rounding out the aromas. The palate blends a gamy beef quality with oregano, marjoram, cooked strawberry, baked blackberry and a sesame-oil character.   \n",
       "3  Black cherry, black plum and black currant are integrated well into the fresh dill and smoke scents on the nose of this wine from one of the region's newest properties. It discloses a rich dark-chocolate sauce character on the palate as well as black-currant-jelly flavors, but most impressive is the lush, sexy and soft mouthfeel.   \n",
       "4                                             Smashed blackberry and blueberry fruit are enhanced by burned caramel, heavy slate and touches of soy and smoke on the nose. There's great depth in both body and flavors once sipped, with a layer of fine-grained tannins revealing teriyaki, black plum, boysenberry and touches of lavender.   \n",
       "\n",
       "         designation  points  price    province                  region_1  \\\n",
       "0            K Block      91   85.0  California  Spring Mountain District   \n",
       "1  Guidotti Vineyard      91   64.0  California     Santa Lucia Highlands   \n",
       "2     Family Reserve      91   68.0  California         Santa Ynez Valley   \n",
       "3     Family Reserve      91   68.0  California         Santa Ynez Valley   \n",
       "4  Destruction Level      91   35.0  California                  Monterey   \n",
       "\n",
       "        region_2     taster_name  \\\n",
       "0           Napa  Virginie Boone   \n",
       "1  Central Coast   Matt Kettmann   \n",
       "2  Central Coast   Matt Kettmann   \n",
       "3  Central Coast   Matt Kettmann   \n",
       "4  Central Coast   Matt Kettmann   \n",
       "\n",
       "                                                                          title  \\\n",
       "0    Terra Valentine 2013 K Block Cabernet Sauvignon (Spring Mountain District)   \n",
       "1          Testarossa 2013 Guidotti Vineyard Pinot Noir (Santa Lucia Highlands)   \n",
       "2  Vincent Vineyards 2010 Family Reserve Cabernet Sauvignon (Santa Ynez Valley)   \n",
       "3  Vincent Vineyards 2012 Family Reserve Cabernet Sauvignon (Santa Ynez Valley)   \n",
       "4                                   Wrath 2013 Destruction Level Red (Monterey)   \n",
       "\n",
       "                 variety             winery  \n",
       "0     Cabernet Sauvignon    Terra Valentine  \n",
       "1             Pinot Noir         Testarossa  \n",
       "2     Cabernet Sauvignon  Vincent Vineyards  \n",
       "3     Cabernet Sauvignon  Vincent Vineyards  \n",
       "4  Rhône-style Red Blend              Wrath  "
      ]
     },
     "execution_count": 4,
     "metadata": {},
     "output_type": "execute_result"
    }
   ],
   "source": [
    "wine_data.head()"
   ]
  },
  {
   "cell_type": "code",
   "execution_count": 5,
   "id": "c03606b9-901d-464a-af80-a55eb0dedb56",
   "metadata": {},
   "outputs": [
    {
     "data": {
      "text/html": [
       "<div>\n",
       "<style scoped>\n",
       "    .dataframe tbody tr th:only-of-type {\n",
       "        vertical-align: middle;\n",
       "    }\n",
       "\n",
       "    .dataframe tbody tr th {\n",
       "        vertical-align: top;\n",
       "    }\n",
       "\n",
       "    .dataframe thead th {\n",
       "        text-align: right;\n",
       "    }\n",
       "</style>\n",
       "<table border=\"1\" class=\"dataframe\">\n",
       "  <thead>\n",
       "    <tr style=\"text-align: right;\">\n",
       "      <th></th>\n",
       "      <th>raw descriptor</th>\n",
       "      <th>level_3</th>\n",
       "      <th>level_2</th>\n",
       "      <th>level_1</th>\n",
       "    </tr>\n",
       "  </thead>\n",
       "  <tbody>\n",
       "    <tr>\n",
       "      <th>0</th>\n",
       "      <td>abras</td>\n",
       "      <td>abrasive</td>\n",
       "      <td>high_tannin</td>\n",
       "      <td>tannin</td>\n",
       "    </tr>\n",
       "    <tr>\n",
       "      <th>1</th>\n",
       "      <td>acacia</td>\n",
       "      <td>acacia</td>\n",
       "      <td>flowery</td>\n",
       "      <td>flower</td>\n",
       "    </tr>\n",
       "    <tr>\n",
       "      <th>2</th>\n",
       "      <td>acacia_flower</td>\n",
       "      <td>acacia</td>\n",
       "      <td>flowery</td>\n",
       "      <td>flower</td>\n",
       "    </tr>\n",
       "    <tr>\n",
       "      <th>3</th>\n",
       "      <td>aciddriven</td>\n",
       "      <td>acid_driven</td>\n",
       "      <td>high_acid</td>\n",
       "      <td>acid</td>\n",
       "    </tr>\n",
       "    <tr>\n",
       "      <th>4</th>\n",
       "      <td>aggress</td>\n",
       "      <td>aggressive</td>\n",
       "      <td>high_acid</td>\n",
       "      <td>acid</td>\n",
       "    </tr>\n",
       "  </tbody>\n",
       "</table>\n",
       "</div>"
      ],
      "text/plain": [
       "  raw descriptor      level_3      level_2 level_1\n",
       "0          abras     abrasive  high_tannin  tannin\n",
       "1         acacia       acacia      flowery  flower\n",
       "2  acacia_flower       acacia      flowery  flower\n",
       "3     aciddriven  acid_driven    high_acid    acid\n",
       "4        aggress   aggressive    high_acid    acid"
      ]
     },
     "execution_count": 5,
     "metadata": {},
     "output_type": "execute_result"
    }
   ],
   "source": [
    "descriptor_data.head()"
   ]
  },
  {
   "cell_type": "markdown",
   "id": "f070dbff-4ae7-4182-95a8-baff1ac102fb",
   "metadata": {},
   "source": [
    "___"
   ]
  },
  {
   "cell_type": "markdown",
   "id": "ead92038-1653-4217-b5ad-ec0d3dfd28ab",
   "metadata": {},
   "source": [
    "# Data Preprocessing"
   ]
  },
  {
   "cell_type": "markdown",
   "id": "0cd4a345-1247-4f61-ba04-290c774b2330",
   "metadata": {},
   "source": [
    "Prior to performing modelling and building the recommender system, the data has to be preprocessed.\n",
    "\n",
    "The first step is text normalization, which involves converting raw text data into a standardized format that can be analyzed more easily. This step includes removing punctuation, stemming, and eliminating stop words.\n",
    "\n",
    "Subesequently, the next step involves mapping descriptors in wine reviews to a standardized set of traits. This is done by using a set of pre-defined descriptors and mapping them to a set of standardized wine traits.\n",
    "\n",
    "Once the descriptors have been mapped, the text is encoded using CountVectorizer. This is a standard technique for text classification that converts text data into a numerical representation that can be analyzed by machine learning algorithms.\n",
    "\n",
    "Finally, the top 100 features are selected to create a new data frame which will be used to build the recommender system. By selecting only the most relevant features, the algorithm can run faster and be more efficient.\n",
    "\n",
    "The resulting data frame is then used to train a machine learning algorithm to make personalized recommendations based on a user's preferences.\n",
    "\n",
    "Overall, these preprocessing steps are essential for building an accurate and efficient wine recommender system."
   ]
  },
  {
   "cell_type": "code",
   "execution_count": 6,
   "id": "47aa6c22-50c6-4517-a908-d8bea3a69a32",
   "metadata": {},
   "outputs": [],
   "source": [
    "# setup normalisation function to remove punctuations, stemming, and removing stop words.\n",
    "punctuation_table = str.maketrans({key: None for key in string.punctuation})\n",
    "sno = SnowballStemmer('english')\n",
    "en_stopwords = stopwords.words('english')\n",
    "\n",
    "def normalize_text(raw_text):\n",
    "    try:\n",
    "        word_list = word_tokenize(raw_text)     \n",
    "        normalized_txt = []\n",
    "        for w in word_list:\n",
    "            try:\n",
    "                w = str(w)                     \n",
    "                lower_case_word = str.lower(w)  \n",
    "                stemmed_word = sno.stem(lower_case_word)  \n",
    "                no_punctuation = stemmed_word.translate(punctuation_table)  \n",
    "                if len(no_punctuation) > 1 and no_punctuation not in en_stopwords: \n",
    "                    normalized_txt.append(no_punctuation) \n",
    "            except:\n",
    "                continue\n",
    "        return normalized_txt                  \n",
    "    except:\n",
    "        return ''"
   ]
  },
  {
   "cell_type": "code",
   "execution_count": 7,
   "id": "fa2adff5-2777-466a-9f6d-b706c8a7ae90",
   "metadata": {},
   "outputs": [],
   "source": [
    "# tokenise wine reviews and normalise them using normalisation function.\n",
    "# use phrases_m model from Gensim to map related descriptors and combine them into a single string.\n",
    "reviews_list = [str(r) for r in list(wine_data['description'])]\n",
    "full_corpus = ' '.join(reviews_list)\n",
    "sentences_tokenized = sent_tokenize(full_corpus)\n",
    "normalized_sentences = []\n",
    "for s in sentences_tokenized:\n",
    "    normalized_text = normalize_text(s)\n",
    "    normalized_sentences.append(normalized_text)\n",
    "\n",
    "phrases_m = Phrases(normalized_sentences)\n",
    "\n",
    "ngrams = Phraser(phrases_m)\n",
    "\n",
    "descriptor_data.set_index('raw descriptor', inplace=True)\n",
    "\n",
    "wine_reviews = list(wine_data['description'])\n",
    "\n",
    "def return_descriptor_from_mapping(word):\n",
    "    if word in list(descriptor_data.index):\n",
    "        descriptor_to_return = descriptor_data['level_3'][word]\n",
    "        return descriptor_to_return\n",
    "\n",
    "desc_reviews = []\n",
    "for review in wine_reviews:\n",
    "    normalized_review = normalize_text(review)\n",
    "    phrased_review = ngrams[normalized_review]\n",
    "    descriptors_only = [return_descriptor_from_mapping(word) for word in phrased_review]\n",
    "    no_nones = [str(d) for d in descriptors_only if d is not None]\n",
    "    descriptorized_review = ' '.join(no_nones)\n",
    "    desc_reviews.append(descriptorized_review)\n",
    "    \n",
    "wine_data['traits'] = desc_reviews"
   ]
  },
  {
   "cell_type": "code",
   "execution_count": 8,
   "id": "90646e9c-ded9-4a9b-a635-c646e04045d2",
   "metadata": {},
   "outputs": [],
   "source": [
    "# select top 200 wine traits based on frequency of occurence in reviews using CountVectoriser\n",
    "cvec_desc = CountVectorizer(max_features=200)\n",
    "\n",
    "key_desc = pd.DataFrame(data = cvec_desc.fit_transform(desc_reviews).todense(),\n",
    "                        columns = cvec_desc.get_feature_names_out())\n",
    "\n",
    "desc_encode = key_desc.astype(bool).astype(int)\n",
    "\n",
    "\n",
    "model_df = wine_data.join(desc_encode)\n",
    "\n",
    "\n",
    "wine_data_final = wine_data[['taster_name', 'title', 'points']]"
   ]
  },
  {
   "cell_type": "markdown",
   "id": "32720572-0ed2-4239-90b1-9190b2295970",
   "metadata": {},
   "source": [
    "___"
   ]
  },
  {
   "cell_type": "markdown",
   "id": "b4af46e3-67c6-4312-a0be-e4c0b3ac9b0e",
   "metadata": {},
   "source": [
    "# Modelling"
   ]
  },
  {
   "cell_type": "markdown",
   "id": "8af71f1c-010e-42cd-a77f-93beb958ba21",
   "metadata": {},
   "source": [
    "KFold strategy is implemented to split the data into k folds to evaluate the model on k-1 folds and validate on the remaining one. Then, the Reader is setup to define the rating scale for the wine reviews. The wine data is loaded into the Dataset object using the Reader object."
   ]
  },
  {
   "cell_type": "code",
   "execution_count": 9,
   "id": "b23dcf22-3eb3-4da9-b774-66414eba13b8",
   "metadata": {},
   "outputs": [],
   "source": [
    "# KFold strategy\n",
    "kf = KFold(random_state=42)"
   ]
  },
  {
   "cell_type": "code",
   "execution_count": 10,
   "id": "038172db-0570-4287-9520-9f2872c6e6af",
   "metadata": {},
   "outputs": [
    {
     "data": {
      "text/plain": [
       "91.0"
      ]
     },
     "execution_count": 10,
     "metadata": {},
     "output_type": "execute_result"
    }
   ],
   "source": [
    "median_point = wine_data_final['points'].median()\n",
    "median_point"
   ]
  },
  {
   "cell_type": "code",
   "execution_count": 11,
   "id": "99c7f6d9-4bce-4550-a593-faed24e59f2b",
   "metadata": {},
   "outputs": [],
   "source": [
    "reader = Reader(rating_scale=(88, 100))"
   ]
  },
  {
   "cell_type": "code",
   "execution_count": 12,
   "id": "ec1c743e-a394-4968-9771-e7b55cdcb0be",
   "metadata": {},
   "outputs": [],
   "source": [
    "# load data\n",
    "data = Dataset.load_from_df(wine_data_final, reader)"
   ]
  },
  {
   "cell_type": "markdown",
   "id": "17c10359-74ab-4de0-98a8-532013b6ac3d",
   "metadata": {},
   "source": [
    "## Baseline model"
   ]
  },
  {
   "cell_type": "markdown",
   "id": "d7e5b6be-5106-476f-ae22-5b0936bbbe89",
   "metadata": {},
   "source": [
    "The baseline model will be used to evaluate the performance of the model.\n",
    "\n",
    "`Precision` is a measure of how many of the recommended wines were actually relevant to the user's preferences, and is calculated as the number of relevant wines in the recommendations divided by the total number of recommended wines.\n",
    "\n",
    "`Recall` is a measure of how many of the relevant wines were actually recommended, and is calculated as the number of relevant wines in the recommendations divided by the total number of relevant wines."
   ]
  },
  {
   "cell_type": "code",
   "execution_count": 13,
   "id": "d322ce88-bf4a-4212-a58e-b4af16081b76",
   "metadata": {},
   "outputs": [],
   "source": [
    "# create lists of unique wines & wine tasters\n",
    "wines = wine_data_final['title'].unique().tolist()\n",
    "tasters = wine_data_final['taster_name'].unique().tolist()"
   ]
  },
  {
   "cell_type": "markdown",
   "id": "f5e3bc4f-cd4c-4bb2-9f44-f31b37398c7f",
   "metadata": {},
   "source": [
    "The randomised recommender model can generate different recommendations in each run, which can result in varying RMSE values.\n",
    "\n",
    "This is due to the model's output being dependent on the randomisation process used to select the recommendations.\n",
    "\n",
    "As a result, it may be difficult to obtain a stable and reliable RMSE value, particularly if the variation in the recommendations generated by the model is large."
   ]
  },
  {
   "cell_type": "code",
   "execution_count": 14,
   "id": "6b28f5b3-b78b-4749-82fb-7b40bc50a5a7",
   "metadata": {},
   "outputs": [
    {
     "name": "stdout",
     "output_type": "stream",
     "text": [
      "The average precision@k for baseline model is 0.53\n",
      "The average recall@k for baseline model is 0.000716\n"
     ]
    }
   ],
   "source": [
    "k = 10\n",
    "precision, recall = [], []\n",
    "\n",
    "while tasters:\n",
    "    random_user = tasters.pop()\n",
    "    \n",
    "    relevant_wines = wine_data_final.loc[(wine_data_final['taster_name'] != random_user) & (wine_data_final['points'] >= 91), 'title'].unique()\n",
    "    count_relevant_wines = len(relevant_wines)\n",
    "    \n",
    "    random_10_wines = sample(wines, k)\n",
    "    rec_correct_wines = set(random_10_wines).intersection(relevant_wines)\n",
    "    \n",
    "    recall.append(len(rec_correct_wines) / count_relevant_wines if count_relevant_wines else 0)\n",
    "    precision.append(len(rec_correct_wines) / k)\n",
    "    \n",
    "precision_at_k = sum(precision) / len(precision)\n",
    "recall_at_k = sum(recall) / len(recall)\n",
    "\n",
    "print(f'The average precision@k for baseline model is {round(precision_at_k, 6)}')\n",
    "print(f'The average recall@k for baseline model is {round(recall_at_k, 6)}')"
   ]
  },
  {
   "cell_type": "markdown",
   "id": "411e9a38-a672-46d8-b4bf-ee6c6889e463",
   "metadata": {},
   "source": [
    "## Train other Models"
   ]
  },
  {
   "cell_type": "markdown",
   "id": "fcb54321-06cd-4630-a4ae-d6e1ead70d37",
   "metadata": {},
   "source": [
    "- `Normal Predictors` and `Baseline Predictor`: These models were chosen as baseline models because they are simple and commonly used in recommender systems. They provide a basic level of performance against which more advanced models can be compared.\n",
    "\n",
    "- `NonNegative Matrix Factorization`: This matrix factorization-based model was chosen because it is a widely used and effective algorithm for recommendation tasks. It is particularly useful for datasets with non-negative values, which is common in recommendation systems.\n",
    "\n",
    "- `Slope One`: Slope One was chosen because it is a simple and effective collaborative filtering algorithm. It can be used to recommend items based on the preferences of similar users.\n",
    "\n",
    "- `Singular Value Decomposition (SVD)`: SVD is a powerful matrix factorization-based model that is commonly used in recommender systems. It can be used to model complex user-item interactions and has been shown to be effective in a wide range of recommendation tasks.\n",
    "\n",
    "- `Co-clustering`: Co-clustering was chosen because it is a clustering-based algorithm that can be used to group users and items with similar preferences. It can be particularly useful for datasets with a large number of users or items.\n",
    "\n",
    "- `K-Nearest Neighbors (KNN)`: KNN was chosen because it is a simple and effective algorithm for finding similarity between users or items in a dataset. It can be used to recommend items to users based on the preferences of similar users, or to recommend similar items to users based on the items they have liked or interacted with.\n",
    "\n",
    "- `FunkSVD`: FunkSVD was chosen because it is a matrix factorization-based model that is similar to SVD but uses a simpler update rule for the factorization process. It can be a good choice for larger datasets since it is computationally more efficient than SVD, while still providing a high level of accuracy."
   ]
  },
  {
   "cell_type": "code",
   "execution_count": 15,
   "id": "e92d49b2-3d2f-4fc1-8666-658f11a691d4",
   "metadata": {},
   "outputs": [],
   "source": [
    "algos = {\n",
    "    'Normal Predictor': NormalPredictor(),\n",
    "    'Baseline Predictor': BaselineOnly(),\n",
    "    'NonNegative Matrix Factorization': NMF(random_state=42),\n",
    "    'Slope One': SlopeOne(),\n",
    "    'SVD': SVD(random_state=42),\n",
    "    'Co-clustering': CoClustering(random_state=42),\n",
    "    'KNN Basic': KNNBasic(),\n",
    "    'KNN Means': KNNWithMeans(),\n",
    "    'KNN ZScore': KNNWithZScore(),\n",
    "    'KNN Baseline': KNNBaseline(),\n",
    "    'FunkSVD': SVDpp()\n",
    "}"
   ]
  },
  {
   "cell_type": "code",
   "execution_count": 16,
   "id": "4e00f442-5834-4d97-ab66-fcf72c9305dc",
   "metadata": {},
   "outputs": [
    {
     "name": "stderr",
     "output_type": "stream",
     "text": [
      "100%|███████████████████████████████████████████| 11/11 [01:13<00:00,  6.64s/it]\n"
     ]
    }
   ],
   "source": [
    "# obtain RMSE for algorithms\n",
    "msd_rmse_results = []\n",
    "\n",
    "for algo_name, algo in tqdm(algos.items()):\n",
    "    results = cross_validate(algo, data, measures=['rmse'], cv=kf, n_jobs=-1)\n",
    "    msd_rmse_results.append((algo_name, results['test_rmse'].mean()))\n",
    "\n",
    "msd_results_df = pd.DataFrame(msd_rmse_results, columns=['algorithm_name', 'ave_rmse_score'])"
   ]
  },
  {
   "cell_type": "code",
   "execution_count": 17,
   "id": "9c741e86-d69a-44bb-9344-6e34810eb8ee",
   "metadata": {
    "scrolled": true,
    "tags": []
   },
   "outputs": [],
   "source": [
    "# function to calculate precision@k and recall@k for each user based on set of predictions, threshold and k value\n",
    "def precision_recall_at_k(predictions, threshold, k=10):\n",
    "    \"\"\"Return precision and recall at k metrics for each user\"\"\"\n",
    "    user_est_true = defaultdict(list)\n",
    "    for uid, iid, true_r, est, _ in predictions:\n",
    "        user_est_true[uid].append((est, true_r))\n",
    "\n",
    "    precisions = dict()\n",
    "    recalls = dict()\n",
    "    for uid, user_ratings in user_est_true.items():\n",
    "        user_ratings.sort(key=lambda x: x[0], reverse=True)\n",
    "        n_rel = sum(true_r >= threshold for _, true_r in user_ratings)\n",
    "        n_rec_k = sum(est >= threshold for est, _ in user_ratings[:k])\n",
    "        n_rel_and_rec_k = sum((true_r >= threshold and est >= threshold) for est, true_r in user_ratings[:k])\n",
    "        precisions[uid] = n_rel_and_rec_k / n_rec_k if n_rec_k != 0 else 0\n",
    "        recalls[uid] = n_rel_and_rec_k / n_rel if n_rel != 0 else 0\n",
    "\n",
    "    return precisions, recalls"
   ]
  },
  {
   "cell_type": "code",
   "execution_count": 18,
   "id": "90c77eb1-7142-4d18-9575-a9393539e7ce",
   "metadata": {},
   "outputs": [],
   "source": [
    "# dictionary to store results for each algorithm\n",
    "results = {'algorithm_name': [], 'ave_precision@k_score': [], 'ave_recall@k_score': []}"
   ]
  },
  {
   "cell_type": "code",
   "execution_count": 19,
   "id": "7c1aa1d2-3926-4f32-8bce-ad5ef6efc23d",
   "metadata": {
    "scrolled": true,
    "tags": []
   },
   "outputs": [
    {
     "name": "stderr",
     "output_type": "stream",
     "text": [
      "  9%|████                                        | 1/11 [00:00<00:02,  3.45it/s]"
     ]
    },
    {
     "name": "stdout",
     "output_type": "stream",
     "text": [
      "Estimating biases using als...\n",
      "Estimating biases using als...\n",
      "Estimating biases using als...\n",
      "Estimating biases using als...\n"
     ]
    },
    {
     "name": "stderr",
     "output_type": "stream",
     "text": [
      " 18%|████████                                    | 2/11 [00:00<00:03,  2.46it/s]"
     ]
    },
    {
     "name": "stdout",
     "output_type": "stream",
     "text": [
      "Estimating biases using als...\n"
     ]
    },
    {
     "name": "stderr",
     "output_type": "stream",
     "text": [
      " 55%|████████████████████████                    | 6/11 [00:28<00:27,  5.47s/it]"
     ]
    },
    {
     "name": "stdout",
     "output_type": "stream",
     "text": [
      "Computing the msd similarity matrix...\n",
      "Done computing similarity matrix.\n",
      "Computing the msd similarity matrix...\n",
      "Done computing similarity matrix.\n",
      "Computing the msd similarity matrix...\n",
      "Done computing similarity matrix.\n",
      "Computing the msd similarity matrix...\n",
      "Done computing similarity matrix.\n"
     ]
    },
    {
     "name": "stderr",
     "output_type": "stream",
     "text": [
      " 64%|████████████████████████████                | 7/11 [00:28<00:15,  3.79s/it]"
     ]
    },
    {
     "name": "stdout",
     "output_type": "stream",
     "text": [
      "Computing the msd similarity matrix...\n",
      "Done computing similarity matrix.\n",
      "Computing the msd similarity matrix...\n",
      "Done computing similarity matrix.\n",
      "Computing the msd similarity matrix...\n",
      "Done computing similarity matrix.\n",
      "Computing the msd similarity matrix...\n",
      "Done computing similarity matrix.\n",
      "Computing the msd similarity matrix...\n",
      "Done computing similarity matrix.\n"
     ]
    },
    {
     "name": "stderr",
     "output_type": "stream",
     "text": [
      " 73%|████████████████████████████████            | 8/11 [00:29<00:07,  2.66s/it]"
     ]
    },
    {
     "name": "stdout",
     "output_type": "stream",
     "text": [
      "Computing the msd similarity matrix...\n",
      "Done computing similarity matrix.\n",
      "Computing the msd similarity matrix...\n",
      "Done computing similarity matrix.\n"
     ]
    },
    {
     "name": "stderr",
     "output_type": "stream",
     "text": [
      " 82%|████████████████████████████████████        | 9/11 [00:29<00:03,  1.95s/it]"
     ]
    },
    {
     "name": "stdout",
     "output_type": "stream",
     "text": [
      "Computing the msd similarity matrix...\n",
      "Done computing similarity matrix.\n",
      "Computing the msd similarity matrix...\n",
      "Done computing similarity matrix.\n",
      "Computing the msd similarity matrix...\n",
      "Done computing similarity matrix.\n",
      "Computing the msd similarity matrix...\n",
      "Done computing similarity matrix.\n",
      "Estimating biases using als...\n",
      "Computing the msd similarity matrix...\n",
      "Done computing similarity matrix.\n",
      "Estimating biases using als...\n",
      "Computing the msd similarity matrix...\n",
      "Done computing similarity matrix.\n",
      "Estimating biases using als...\n",
      "Computing the msd similarity matrix...\n",
      "Done computing similarity matrix.\n",
      "Estimating biases using als...\n",
      "Computing the msd similarity matrix...\n",
      "Done computing similarity matrix.\n",
      "Estimating biases using als...\n"
     ]
    },
    {
     "name": "stderr",
     "output_type": "stream",
     "text": [
      " 91%|███████████████████████████████████████    | 10/11 [00:30<00:01,  1.53s/it]"
     ]
    },
    {
     "name": "stdout",
     "output_type": "stream",
     "text": [
      "Computing the msd similarity matrix...\n",
      "Done computing similarity matrix.\n",
      "Estimating biases using als...\n",
      "Computing the msd similarity matrix...\n",
      "Done computing similarity matrix.\n",
      "Estimating biases using als...\n",
      "Computing the msd similarity matrix...\n",
      "Done computing similarity matrix.\n",
      "Computing the msd similarity matrix...\n",
      "Done computing similarity matrix.\n",
      "Computing the msd similarity matrix...\n",
      "Done computing similarity matrix.\n",
      "Computing the msd similarity matrix...\n",
      "Done computing similarity matrix.\n",
      "Computing the msd similarity matrix...\n",
      "Done computing similarity matrix.\n",
      "Computing the msd similarity matrix...\n",
      "Done computing similarity matrix.\n",
      "Estimating biases using als...\n",
      "Computing the msd similarity matrix...\n",
      "Done computing similarity matrix.\n",
      "Estimating biases using als...\n",
      "Computing the msd similarity matrix...\n",
      "Done computing similarity matrix.\n",
      "Computing the msd similarity matrix...\n",
      "Done computing similarity matrix.\n",
      "Estimating biases using als...\n",
      "Computing the msd similarity matrix...\n",
      "Done computing similarity matrix.\n"
     ]
    },
    {
     "name": "stderr",
     "output_type": "stream",
     "text": [
      "100%|███████████████████████████████████████████| 11/11 [04:38<00:00, 25.29s/it]\n"
     ]
    }
   ],
   "source": [
    "# loop through algorithm\n",
    "for algo_name, algo in tqdm(algos.items()):\n",
    "    precision_sum, recall_sum = 0, 0\n",
    "    num_tests = 0\n",
    "    \n",
    "    # loop through each train-test split\n",
    "    for trainset, testset in kf.split(data):\n",
    "        # Fit the algorithm on the training set and make predictions on the test set\n",
    "        algo.fit(trainset)\n",
    "        predictions = algo.test(testset)\n",
    "        \n",
    "        # calculate precision and recall\n",
    "        precisions, recalls = precision_recall_at_k(predictions, threshold=90)\n",
    "        \n",
    "        # update precision and recall sums\n",
    "        precision_sum += sum(prec for prec in precisions.values())\n",
    "        recall_sum += sum(rec for rec in recalls.values())\n",
    "        num_tests += 1\n",
    "    \n",
    "    # calculate average precision and recall over all tests\n",
    "    precision_ave = precision_sum / (num_tests * len(precisions))\n",
    "    recall_ave = recall_sum / (num_tests * len(recalls))\n",
    "    \n",
    "    # add results to dictionary\n",
    "    results['algorithm_name'].append(algo_name)\n",
    "    results['ave_precision@k_score'].append(precision_ave)\n",
    "    results['ave_recall@k_score'].append(recall_ave)"
   ]
  },
  {
   "cell_type": "code",
   "execution_count": 22,
   "id": "bc3aa3dd-2a8a-4242-ad82-849fc47f73df",
   "metadata": {},
   "outputs": [],
   "source": [
    "# conver dictionary to dataframe\n",
    "all_precision_recall_df = pd.DataFrame(results)"
   ]
  },
  {
   "cell_type": "code",
   "execution_count": 23,
   "id": "b2b81440-7193-4b47-be68-674fa43c3b84",
   "metadata": {
    "tags": []
   },
   "outputs": [
    {
     "data": {
      "text/html": [
       "<div>\n",
       "<style scoped>\n",
       "    .dataframe tbody tr th:only-of-type {\n",
       "        vertical-align: middle;\n",
       "    }\n",
       "\n",
       "    .dataframe tbody tr th {\n",
       "        vertical-align: top;\n",
       "    }\n",
       "\n",
       "    .dataframe thead th {\n",
       "        text-align: right;\n",
       "    }\n",
       "</style>\n",
       "<table border=\"1\" class=\"dataframe\">\n",
       "  <thead>\n",
       "    <tr style=\"text-align: right;\">\n",
       "      <th></th>\n",
       "      <th>algorithm_name</th>\n",
       "      <th>ave_precision@k_score</th>\n",
       "      <th>ave_recall@k_score</th>\n",
       "    </tr>\n",
       "  </thead>\n",
       "  <tbody>\n",
       "    <tr>\n",
       "      <th>10</th>\n",
       "      <td>FunkSVD</td>\n",
       "      <td>0.867917</td>\n",
       "      <td>0.257780</td>\n",
       "    </tr>\n",
       "    <tr>\n",
       "      <th>4</th>\n",
       "      <td>SVD</td>\n",
       "      <td>0.865417</td>\n",
       "      <td>0.257334</td>\n",
       "    </tr>\n",
       "    <tr>\n",
       "      <th>1</th>\n",
       "      <td>Baseline Predictor</td>\n",
       "      <td>0.822917</td>\n",
       "      <td>0.251537</td>\n",
       "    </tr>\n",
       "    <tr>\n",
       "      <th>9</th>\n",
       "      <td>KNN Baseline</td>\n",
       "      <td>0.822917</td>\n",
       "      <td>0.251537</td>\n",
       "    </tr>\n",
       "    <tr>\n",
       "      <th>3</th>\n",
       "      <td>Slope One</td>\n",
       "      <td>0.805417</td>\n",
       "      <td>0.250240</td>\n",
       "    </tr>\n",
       "    <tr>\n",
       "      <th>6</th>\n",
       "      <td>KNN Basic</td>\n",
       "      <td>0.805417</td>\n",
       "      <td>0.250240</td>\n",
       "    </tr>\n",
       "    <tr>\n",
       "      <th>7</th>\n",
       "      <td>KNN Means</td>\n",
       "      <td>0.805417</td>\n",
       "      <td>0.250240</td>\n",
       "    </tr>\n",
       "    <tr>\n",
       "      <th>8</th>\n",
       "      <td>KNN ZScore</td>\n",
       "      <td>0.805417</td>\n",
       "      <td>0.250240</td>\n",
       "    </tr>\n",
       "    <tr>\n",
       "      <th>5</th>\n",
       "      <td>Co-clustering</td>\n",
       "      <td>0.802917</td>\n",
       "      <td>0.249946</td>\n",
       "    </tr>\n",
       "    <tr>\n",
       "      <th>0</th>\n",
       "      <td>Normal Predictor</td>\n",
       "      <td>0.719583</td>\n",
       "      <td>0.205594</td>\n",
       "    </tr>\n",
       "    <tr>\n",
       "      <th>2</th>\n",
       "      <td>NonNegative Matrix Factorization</td>\n",
       "      <td>0.715417</td>\n",
       "      <td>0.246805</td>\n",
       "    </tr>\n",
       "  </tbody>\n",
       "</table>\n",
       "</div>"
      ],
      "text/plain": [
       "                      algorithm_name  ave_precision@k_score  \\\n",
       "10                           FunkSVD               0.867917   \n",
       "4                                SVD               0.865417   \n",
       "1                 Baseline Predictor               0.822917   \n",
       "9                       KNN Baseline               0.822917   \n",
       "3                          Slope One               0.805417   \n",
       "6                          KNN Basic               0.805417   \n",
       "7                          KNN Means               0.805417   \n",
       "8                         KNN ZScore               0.805417   \n",
       "5                      Co-clustering               0.802917   \n",
       "0                   Normal Predictor               0.719583   \n",
       "2   NonNegative Matrix Factorization               0.715417   \n",
       "\n",
       "    ave_recall@k_score  \n",
       "10            0.257780  \n",
       "4             0.257334  \n",
       "1             0.251537  \n",
       "9             0.251537  \n",
       "3             0.250240  \n",
       "6             0.250240  \n",
       "7             0.250240  \n",
       "8             0.250240  \n",
       "5             0.249946  \n",
       "0             0.205594  \n",
       "2             0.246805  "
      ]
     },
     "metadata": {},
     "output_type": "display_data"
    }
   ],
   "source": [
    "all_precision_recall_df = all_precision_recall_df.sort_values('ave_precision@k_score', ascending=False)\n",
    "display(all_precision_recall_df)"
   ]
  },
  {
   "cell_type": "markdown",
   "id": "65e2cf1d-c3a0-459c-9346-95c028e86d79",
   "metadata": {},
   "source": [
    "___Results:___\n",
    "\n",
    "The algorithm with the highest average precision@k score is FunkSVD with a score of 0.867917, followed by SVD with a score of 0.865417. \n",
    "\n",
    "The algorithm with the highest average recall@k score is FunkSVD with a score of 0.257780, followed by SVD with a score of 0.257334.\n",
    "\n",
    "The Baseline Predictor and KNN Baseline algorithms also perform well, with precision and recall scores above 0.82.\n",
    "\n",
    "Other algorithms such as Normal Predictor and NonNegative Matrix Factorization perform relatively poorly compared to the other algorithms."
   ]
  },
  {
   "cell_type": "markdown",
   "id": "e5e1061e-9d3f-49ae-bc72-26363b36294a",
   "metadata": {},
   "source": [
    "___"
   ]
  },
  {
   "cell_type": "markdown",
   "id": "6dacae7e-a099-4f95-868c-f30747525167",
   "metadata": {},
   "source": [
    "# Hyperparameter Tuning"
   ]
  },
  {
   "cell_type": "markdown",
   "id": "5eda79fd-7f69-4e28-8dd2-dae9ddaaa8d7",
   "metadata": {},
   "source": [
    "After identifying that FunkSVD is the best model, hyperparameter tuning is performed to further optimize the performance of the model. \n",
    "\n",
    "Tuning hyperparameters allows us to adjust these variables to better fit the data and improve the model's ability to generalize to new data.\n",
    "\n",
    "By exploring different combinations of hyperparameters, we can find the set that produces the best results for our specific task. This helps us to get the most out of our chosen algorithm and achieve the best possible performance."
   ]
  },
  {
   "cell_type": "code",
   "execution_count": 24,
   "id": "449a3b8a-f8a5-4605-bf15-f968ced4aa32",
   "metadata": {},
   "outputs": [],
   "source": [
    "# set the hyperparameters for FunkSVD\n",
    "param_grid_funksvd = {\n",
    "    'n_factors': [50, 100, 150],\n",
    "    'n_epochs': [20, 30, 40],\n",
    "    'lr_all': [0.002, 0.005, 0.01],\n",
    "    'reg_all': [0.02, 0.04, 0.06]\n",
    "}"
   ]
  },
  {
   "cell_type": "code",
   "execution_count": 25,
   "id": "a10663d3-2829-48d8-a834-3f322f1c4c2f",
   "metadata": {},
   "outputs": [],
   "source": [
    "# instantiate the FunkSVD algorithm\n",
    "algo_funksvd = SVD"
   ]
  },
  {
   "cell_type": "code",
   "execution_count": 26,
   "id": "e7a36fd3-578a-475d-be0d-77f843504fab",
   "metadata": {},
   "outputs": [],
   "source": [
    "# GridSearchCV to search for best hyperparameters\n",
    "gs_funksvd = GridSearchCV(algo_funksvd, param_grid_funksvd, measures=['rmse'], cv=5)\n",
    "gs_funksvd.fit(data)"
   ]
  },
  {
   "cell_type": "code",
   "execution_count": 27,
   "id": "b76c7e18-f998-42d4-be0c-6afd73673a49",
   "metadata": {},
   "outputs": [
    {
     "name": "stdout",
     "output_type": "stream",
     "text": [
      "1.5596475739623117\n",
      "{'n_factors': 100, 'n_epochs': 40, 'lr_all': 0.01, 'reg_all': 0.02}\n"
     ]
    }
   ],
   "source": [
    "# best RMSE score and the corresponding parameters\n",
    "print(gs_funksvd.best_score['rmse'])\n",
    "print(gs_funksvd.best_params['rmse'])"
   ]
  },
  {
   "cell_type": "code",
   "execution_count": 28,
   "id": "35c85eb8-c70c-44e3-afa3-0e4ecba41633",
   "metadata": {},
   "outputs": [
    {
     "data": {
      "text/plain": [
       "<surprise.prediction_algorithms.matrix_factorization.SVD at 0x7f7afbbe7f70>"
      ]
     },
     "execution_count": 28,
     "metadata": {},
     "output_type": "execute_result"
    }
   ],
   "source": [
    "# fit tuned FunkSVD model on the entire dataset\n",
    "tuned_funksvd = gs_funksvd.best_estimator['rmse']\n",
    "tuned_funksvd.fit(data.build_full_trainset())"
   ]
  },
  {
   "cell_type": "code",
   "execution_count": 29,
   "id": "340cce84-c118-4570-8658-359487e35c71",
   "metadata": {},
   "outputs": [
    {
     "name": "stdout",
     "output_type": "stream",
     "text": [
      "Mean Precision@k for tuned FunkSVD model is 0.952778\n",
      "Mean Recall@k for tuned FunkSVD model is 0.225906\n"
     ]
    }
   ],
   "source": [
    "# compute Precision@k and Recall@k\n",
    "precision_list = []\n",
    "recall_list = []\n",
    "\n",
    "for trainset, testset in kf.split(data):\n",
    "    predictions = tuned_funksvd.test(testset)\n",
    "    precisions, recalls = precision_recall_at_k(predictions, threshold=90)\n",
    "    precision_list.append(sum(prec for prec in precisions.values()) / len(precisions))\n",
    "    recall_list.append(sum(rec for rec in recalls.values()) / len(recalls))\n",
    "    \n",
    "precision_ave = sum(precision_list)/len(precision_list)\n",
    "recall_ave = sum(recall_list)/len(recall_list)\n",
    "\n",
    "print(f'Mean Precision@k for tuned FunkSVD model is {round(precision_ave, 6)}')\n",
    "print(f'Mean Recall@k for tuned FunkSVD model is {round(recall_ave, 6)}')"
   ]
  },
  {
   "cell_type": "markdown",
   "id": "39549e10-7cd9-4c54-ba3e-086f0ff9699f",
   "metadata": {},
   "source": [
    "___Notes:___\n",
    "\n",
    "The tuned FunkSVD model performs alot better with a mean precision@k score of 0.952778 and meal recall@k score of 0.225906 compared to the previous score, 0.867917 and 0.257780, respectively."
   ]
  },
  {
   "cell_type": "markdown",
   "id": "6f2bb407-4b67-4328-ad98-287967ed9da5",
   "metadata": {},
   "source": [
    "___"
   ]
  },
  {
   "cell_type": "markdown",
   "id": "8966f5de-1a78-4dc9-a3e5-748685711813",
   "metadata": {},
   "source": [
    "# Experimenting with Thresholds"
   ]
  },
  {
   "cell_type": "markdown",
   "id": "f2177c8b-c2f4-4c84-a296-68e8a8801e73",
   "metadata": {},
   "source": [
    "Experimenting with different threshold values is a way to evaluate the performance of a recommendation system under different scenarios. \n",
    "\n",
    "The threshold value represents the minimum rating value that a user has to give to an item in order for it to be considered a positive preference. Setting a different threshold can have a significant impact on the precision and recall of the system, especially if the distribution of ratings is highly skewed or if there is a significant number of missing ratings.\n",
    "\n",
    "For example, if the threshold is set too high, the system may only recommend a small number of highly-rated items, which may result in low recall (i.e., the system fails to recommend relevant items to users).\n",
    "\n",
    "On the other hand, if the threshold is set too low, the system may recommend too many irrelevant items, resulting in low precision (i.e., the system recommends many items that are not relevant to the user's interests). Therefore, experimenting with different threshold values can help us to identify an optimal threshold that balances the trade-off between precision and recall, and produces the best overall performance."
   ]
  },
  {
   "cell_type": "code",
   "execution_count": 30,
   "id": "cb85fecf-9be5-46bf-bc9d-14e78d0ed7f4",
   "metadata": {},
   "outputs": [],
   "source": [
    "# compute Precision@k & Recall@k for different thresholds\n",
    "thresholds = [89, 90, 91]\n",
    "precision_results = []\n",
    "recall_results = []"
   ]
  },
  {
   "cell_type": "code",
   "execution_count": 31,
   "id": "dddf5ae0-dae5-420f-92ef-c6f1d0ec8fa6",
   "metadata": {},
   "outputs": [
    {
     "name": "stdout",
     "output_type": "stream",
     "text": [
      "At threshold = 89, mean Precision@k is 1.0\n",
      "At threshold = 89, mean Recall@k is 0.291867\n",
      "------------------------------------------\n",
      "At threshold = 90, mean Precision@k is 0.80662\n",
      "At threshold = 90, mean Recall@k is 0.245393\n",
      "------------------------------------------\n",
      "At threshold = 91, mean Precision@k is 0.658333\n",
      "At threshold = 91, mean Recall@k is 0.025703\n",
      "------------------------------------------\n"
     ]
    }
   ],
   "source": [
    "for thresh in thresholds:\n",
    "    precision_list = []\n",
    "    recall_list = []\n",
    "\n",
    "    for trainset, testset in kf.split(data):\n",
    "        tuned_funksvd.fit(trainset)\n",
    "        predictions = tuned_funksvd.test(testset)\n",
    "        precisions, recalls = precision_recall_at_k(predictions, threshold=thresh)\n",
    "        precision_list.append(sum(prec for prec in precisions.values()) / len(precisions))\n",
    "        recall_list.append(sum(rec for rec in recalls.values()) / len(recalls))\n",
    "\n",
    "    precision_ave = sum(precision_list)/len(precision_list)\n",
    "    recall_ave = sum(recall_list)/len(recall_list)\n",
    "    precision_results.append(precision_ave)\n",
    "    recall_results.append(recall_ave)\n",
    "    print(f'At threshold = {thresh}, mean Precision@k is {round(precision_ave, 6)}')\n",
    "    print(f'At threshold = {thresh}, mean Recall@k is {round(recall_ave, 6)}')\n",
    "    print('------------------------------------------')"
   ]
  },
  {
   "cell_type": "markdown",
   "id": "a277057f-4f39-4385-ac41-baa07c2d62c7",
   "metadata": {},
   "source": [
    "___Results:___\n",
    "\n",
    "As the threshold increases, the Precision@k metric decreases while the Recall@k metric increases. This suggests that as the threshold becomes stricter, the model is less likely to recommend wines that the user will find relevant, but it is more likely to recommend all the relevant wines in the dataset.\n",
    "\n",
    "Therefore, the trade-off between precision and recall should be considered when selecting a threshold."
   ]
  },
  {
   "cell_type": "markdown",
   "id": "651e08d2-a75a-4587-bea5-e889f0bd4b7b",
   "metadata": {},
   "source": [
    "___"
   ]
  },
  {
   "cell_type": "markdown",
   "id": "49e34b53-47ab-4ace-bd42-8af006b7e05e",
   "metadata": {},
   "source": [
    "# Model Performance"
   ]
  },
  {
   "cell_type": "markdown",
   "id": "ead0890b-7265-4e63-b93b-e17073a2bf46",
   "metadata": {},
   "source": [
    "The top 10 recommendations given by the model are compared to their actual rating to assess the model's capability to provide similar recommendations.\n",
    "\n",
    "The evaluation is done by creating a dataframe with the estimated match score (predicted ratings) for wines not previously rated by the user.\n",
    "\n",
    "The predictions are made by the chosen model and are based on the user's past wine ratings."
   ]
  },
  {
   "cell_type": "code",
   "execution_count": 32,
   "id": "6190ca5f-bc3d-4eed-bae7-52e3decc0818",
   "metadata": {},
   "outputs": [],
   "source": [
    "# set parameters for the chosen model with the revised hyperparameters\n",
    "chosen_model = SVD(n_factors=150, n_epochs=40, lr_all=0.005, reg_all=0.02)"
   ]
  },
  {
   "cell_type": "code",
   "execution_count": 33,
   "id": "861b104d-3825-4796-a02c-5feba430bb97",
   "metadata": {},
   "outputs": [],
   "source": [
    "# prepare the whole dataset as the trainset\n",
    "trainset = data.build_full_trainset()"
   ]
  },
  {
   "cell_type": "code",
   "execution_count": 35,
   "id": "073db6d2-1f4d-4026-8a5e-cd473d6738a0",
   "metadata": {},
   "outputs": [],
   "source": [
    "# fit the model with the whole dataset\n",
    "chosen_model.fit(trainset);"
   ]
  },
  {
   "cell_type": "code",
   "execution_count": 45,
   "id": "706f82eb-2b76-4e39-b1d6-ca971a202b1f",
   "metadata": {},
   "outputs": [],
   "source": [
    "# dataframe with the estimated match score (predicted ratings)\n",
    "recommend_list = []\n",
    "user_wines = wine_data_final[wine_data_final['taster_name'] == 'mock_user']['title'].unique()\n",
    "not_user_wines = []\n",
    "for wine in wine_data_final['title'].unique():\n",
    "    if wine not in user_wines:\n",
    "        not_user_wines.append(wine)\n",
    "\n",
    "for wine in not_user_wines:\n",
    "    wine_compatibility = []\n",
    "    prediction = chosen_model.predict(uid='mock_user', iid=wine)\n",
    "    wine_compatibility.append(prediction.iid)\n",
    "    wine_compatibility.append(prediction.est)\n",
    "    recommend_list.append(wine_compatibility)\n",
    "\n",
    "df_recommendation = pd.DataFrame(recommend_list, columns=['title', 'matching points'])"
   ]
  },
  {
   "cell_type": "code",
   "execution_count": 46,
   "id": "643434f3-d6f1-478d-82b8-fc8bb9ae6081",
   "metadata": {},
   "outputs": [
    {
     "data": {
      "text/html": [
       "<div>\n",
       "<style scoped>\n",
       "    .dataframe tbody tr th:only-of-type {\n",
       "        vertical-align: middle;\n",
       "    }\n",
       "\n",
       "    .dataframe tbody tr th {\n",
       "        vertical-align: top;\n",
       "    }\n",
       "\n",
       "    .dataframe thead th {\n",
       "        text-align: right;\n",
       "    }\n",
       "</style>\n",
       "<table border=\"1\" class=\"dataframe\">\n",
       "  <thead>\n",
       "    <tr style=\"text-align: right;\">\n",
       "      <th></th>\n",
       "      <th>title</th>\n",
       "      <th>matching points</th>\n",
       "      <th>points</th>\n",
       "    </tr>\n",
       "  </thead>\n",
       "  <tbody>\n",
       "    <tr>\n",
       "      <th>0</th>\n",
       "      <td>Charles Smith 2006 Royal City Syrah (Columbia Valley (WA))</td>\n",
       "      <td>91.866949</td>\n",
       "      <td>100</td>\n",
       "    </tr>\n",
       "    <tr>\n",
       "      <th>1</th>\n",
       "      <td>Cayuse 2009 En Chamberlin Vineyard Syrah (Walla Walla Valley (OR))</td>\n",
       "      <td>91.790558</td>\n",
       "      <td>99</td>\n",
       "    </tr>\n",
       "    <tr>\n",
       "      <th>2</th>\n",
       "      <td>Schramsberg 1999 J. Schram 50 Late Disgorged  (North Coast)</td>\n",
       "      <td>91.760878</td>\n",
       "      <td>97</td>\n",
       "    </tr>\n",
       "    <tr>\n",
       "      <th>3</th>\n",
       "      <td>Alpha Omega 2012 Stagecoach Vineyard Cabernet Sauvignon (Atlas Peak)</td>\n",
       "      <td>91.756291</td>\n",
       "      <td>99</td>\n",
       "    </tr>\n",
       "    <tr>\n",
       "      <th>4</th>\n",
       "      <td>Cayuse 2008 Bionic Frog Syrah (Walla Walla Valley (WA))</td>\n",
       "      <td>91.754541</td>\n",
       "      <td>100</td>\n",
       "    </tr>\n",
       "    <tr>\n",
       "      <th>5</th>\n",
       "      <td>Horsepower 2012 Sur Echalas Vineyard Grenache (Walla Walla Valley (WA))</td>\n",
       "      <td>91.747922</td>\n",
       "      <td>97</td>\n",
       "    </tr>\n",
       "    <tr>\n",
       "      <th>6</th>\n",
       "      <td>Alpha Omega 2012 ERA Red (Napa Valley)</td>\n",
       "      <td>91.737915</td>\n",
       "      <td>99</td>\n",
       "    </tr>\n",
       "    <tr>\n",
       "      <th>7</th>\n",
       "      <td>Cayuse 2011 En Chamberlin Vineyard Syrah (Walla Walla Valley (OR))</td>\n",
       "      <td>91.737433</td>\n",
       "      <td>99</td>\n",
       "    </tr>\n",
       "    <tr>\n",
       "      <th>8</th>\n",
       "      <td>Williams Selyem 2013 Westside Road Neighbors Pinot Noir (Russian River Valley)</td>\n",
       "      <td>91.732530</td>\n",
       "      <td>98</td>\n",
       "    </tr>\n",
       "    <tr>\n",
       "      <th>9</th>\n",
       "      <td>Joseph Phelps 2013 Insignia 40th Vintage Estate Grown Red (Napa Valley)</td>\n",
       "      <td>91.723066</td>\n",
       "      <td>98</td>\n",
       "    </tr>\n",
       "  </tbody>\n",
       "</table>\n",
       "</div>"
      ],
      "text/plain": [
       "                                                                            title  \\\n",
       "0                      Charles Smith 2006 Royal City Syrah (Columbia Valley (WA))   \n",
       "1              Cayuse 2009 En Chamberlin Vineyard Syrah (Walla Walla Valley (OR))   \n",
       "2                     Schramsberg 1999 J. Schram 50 Late Disgorged  (North Coast)   \n",
       "3            Alpha Omega 2012 Stagecoach Vineyard Cabernet Sauvignon (Atlas Peak)   \n",
       "4                         Cayuse 2008 Bionic Frog Syrah (Walla Walla Valley (WA))   \n",
       "5         Horsepower 2012 Sur Echalas Vineyard Grenache (Walla Walla Valley (WA))   \n",
       "6                                          Alpha Omega 2012 ERA Red (Napa Valley)   \n",
       "7              Cayuse 2011 En Chamberlin Vineyard Syrah (Walla Walla Valley (OR))   \n",
       "8  Williams Selyem 2013 Westside Road Neighbors Pinot Noir (Russian River Valley)   \n",
       "9         Joseph Phelps 2013 Insignia 40th Vintage Estate Grown Red (Napa Valley)   \n",
       "\n",
       "   matching points  points  \n",
       "0        91.866949     100  \n",
       "1        91.790558      99  \n",
       "2        91.760878      97  \n",
       "3        91.756291      99  \n",
       "4        91.754541     100  \n",
       "5        91.747922      97  \n",
       "6        91.737915      99  \n",
       "7        91.737433      99  \n",
       "8        91.732530      98  \n",
       "9        91.723066      98  "
      ]
     },
     "execution_count": 46,
     "metadata": {},
     "output_type": "execute_result"
    }
   ],
   "source": [
    "# top 10 recommended wines\n",
    "chosen_rec = df_recommendation.sort_values('matching points', ascending=False).head(10)\n",
    "chosen = chosen_rec.merge(wine_data_final, on='title', how='inner')\n",
    "chosen[['title', 'matching points', 'points']].drop_duplicates()"
   ]
  },
  {
   "cell_type": "markdown",
   "id": "986912f6-ef52-4a0b-ab33-0ec726cfa2da",
   "metadata": {},
   "source": [
    "___Notes:___\n",
    "\n",
    "Based on the results, it appears that the recommender is performing well as the top 10 recommendations have high estimated match points (above 91) and high actual ratings (ranging from 94 to 100). "
   ]
  },
  {
   "cell_type": "markdown",
   "id": "c8a5feaf-9bd0-4e80-9ce4-5cb95bc21d9d",
   "metadata": {},
   "source": [
    "___"
   ]
  },
  {
   "cell_type": "markdown",
   "id": "ff408040-1d6f-459d-a3e6-b244947e5a94",
   "metadata": {},
   "source": [
    "# Model Testing with Wine Traits"
   ]
  },
  {
   "cell_type": "code",
   "execution_count": 47,
   "id": "9edbfd3c-1aea-46eb-8dfc-fa4e2140ddc6",
   "metadata": {},
   "outputs": [],
   "source": [
    "# list of available traits\n",
    "traits_list = list(desc_encode.columns)"
   ]
  },
  {
   "cell_type": "code",
   "execution_count": 48,
   "id": "8698564c-011d-4556-b961-05a22ac77396",
   "metadata": {},
   "outputs": [
    {
     "name": "stdout",
     "output_type": "stream",
     "text": [
      "Available traits: almond, anise, apple, apricot, baked, baking_spices, bay_leaf, berry, bitter, black_cherry, black_currant, black_pepper, black_tea, blackberry, blueberry, boysenberry, bramble, bright, brisk, buoyant, butter, candy, caramel, cardamom, cassis, cedar, chalk, cherry, chocolate, cinnamon, citrus, clean, closed, clove, cocoa, coffee, cola, complex, concentrated, cranberry, cream, crisp, currant, dark, dark_chocolate, dense, depth, dried_herb, dry, dust, earth, edgy, elderberry, elegant, eucalyptus, exuberant, fennel, fig, finegrained_tannin, firm, fleshy, flower, forest_floor, forward, french_oak, fresh, fruit, full_bodied, funky, game, grapefruit, graphite, green, gripping, grippy, hard, hearty, heavy, herb, hibiscus, honey, honeysuckle, hot, iron, jam, juicy, lavender, lavish, leafy, lean, leather, lemon, lemon_peel, length, lengthy, licorice, light_bodied, lime, lime_peel, lush, luxurious, meat, meaty, medium_bodied, mellow, melon, milk_chocolate, minerality, mint, mulberry, mushroom, nectarine, new_oak, nut, nutmeg, oak, olive, orange, orange_peel, oregano, peach, pear, pencil_lead, pepper, perfumed, pie, pine, pineapple, pith, plum, plump, plush, polished, pomegranate, pop, powerful, purple_flower, raspberry, red_currant, refined, refreshing, restrained, rhubarb, rich, ripe, robust, rose, round, sage, saline, salt, sandalwood, savory, sharp, shine, silky, slate, sleek, smoke, smoked_meat, smooth, soft, sour, sparkling, spice, steel, stemmy, stone, stone_fruit, strawberry, succulent, supple, sweet, syrupy, tangerine, tangy, tannin, tar, tart, tea, thick, thyme, tight, toast, tobacco, tree_fruit, tropical_fruit, vanilla, velvety, vibrant, violet, voluptuous, warm, weight, wet_rocks, white, white_pepper, wood, yeast, zesty\n"
     ]
    }
   ],
   "source": [
    "# print\n",
    "print(\"Available traits:\", \", \".join(traits_list))"
   ]
  },
  {
   "cell_type": "code",
   "execution_count": 53,
   "id": "10690cb7-536e-4d1b-a7bb-65a853f034e7",
   "metadata": {},
   "outputs": [],
   "source": [
    "# merge the estimated ratings with the full wine details dataframe\n",
    "# that contains the estimated match score (predicted rating) for each wine in the wine dataset.\n",
    "wine_recommendation = wine_data_final.merge(df_recommendation, on='title', how='inner')"
   ]
  },
  {
   "cell_type": "code",
   "execution_count": 54,
   "id": "d0a89ee9-92c8-4578-bd28-c89557734c82",
   "metadata": {},
   "outputs": [],
   "source": [
    "# filter the dataframe to include only the relevant columns and traits\n",
    "traits = model_df[['title', 'tangy', 'warm']]\n",
    "\n",
    "# sum the values of the 'tangy' and 'warm' columns for each row\n",
    "traits_sum = traits[['tangy', 'warm']].sum(axis=1)\n",
    "\n",
    "# filter the dataframe to include only rows where the sum is not zero\n",
    "temp_traits = traits[traits_sum != 0]"
   ]
  },
  {
   "cell_type": "code",
   "execution_count": 55,
   "id": "8f884543-e531-477c-b71a-b7f9926be388",
   "metadata": {},
   "outputs": [],
   "source": [
    "# merge  dataframes to create a new dataframe (df_recommend_details)\n",
    "# that contains only the wines that have either the \"warm\" or \"tangy\" trait and their corresponding estimated match score\n",
    "df_recommend_details = temp_traits.merge(wine_recommendation, on='title', how='left')"
   ]
  },
  {
   "cell_type": "code",
   "execution_count": 56,
   "id": "74ac168e-e8f0-4809-94b0-6a6f8c61d65c",
   "metadata": {},
   "outputs": [
    {
     "data": {
      "text/html": [
       "<div>\n",
       "<style scoped>\n",
       "    .dataframe tbody tr th:only-of-type {\n",
       "        vertical-align: middle;\n",
       "    }\n",
       "\n",
       "    .dataframe tbody tr th {\n",
       "        vertical-align: top;\n",
       "    }\n",
       "\n",
       "    .dataframe thead th {\n",
       "        text-align: right;\n",
       "    }\n",
       "</style>\n",
       "<table border=\"1\" class=\"dataframe\">\n",
       "  <thead>\n",
       "    <tr style=\"text-align: right;\">\n",
       "      <th></th>\n",
       "      <th>title</th>\n",
       "      <th>matching points</th>\n",
       "      <th>points</th>\n",
       "    </tr>\n",
       "  </thead>\n",
       "  <tbody>\n",
       "    <tr>\n",
       "      <th>375</th>\n",
       "      <td>Wayfarer 2014 Wayfarer Vineyard Chardonnay (Fort Ross-Seaview)</td>\n",
       "      <td>91.689440</td>\n",
       "      <td>98</td>\n",
       "    </tr>\n",
       "    <tr>\n",
       "      <th>560</th>\n",
       "      <td>Quady 2006 Starboard Dessert Wine Port (Amador County)</td>\n",
       "      <td>91.613462</td>\n",
       "      <td>95</td>\n",
       "    </tr>\n",
       "    <tr>\n",
       "      <th>307</th>\n",
       "      <td>Ryan Cochrane 2015 Solomon Hills Vineyard Chardonnay (Santa Maria Valley)</td>\n",
       "      <td>91.592035</td>\n",
       "      <td>96</td>\n",
       "    </tr>\n",
       "    <tr>\n",
       "      <th>35</th>\n",
       "      <td>Williams Selyem 2014 Heintz Vineyard Chardonnay (Russian River Valley)</td>\n",
       "      <td>91.562822</td>\n",
       "      <td>96</td>\n",
       "    </tr>\n",
       "    <tr>\n",
       "      <th>207</th>\n",
       "      <td>Gary Farrell 2014 Ritchie Vineyard Chardonnay (Russian River Valley)</td>\n",
       "      <td>91.547778</td>\n",
       "      <td>96</td>\n",
       "    </tr>\n",
       "    <tr>\n",
       "      <th>175</th>\n",
       "      <td>Ryan Cochrane 2014 Solomon Hills Vineyard Chardonnay (Santa Maria Valley)</td>\n",
       "      <td>91.536482</td>\n",
       "      <td>95</td>\n",
       "    </tr>\n",
       "    <tr>\n",
       "      <th>536</th>\n",
       "      <td>Schramsberg 2008 Extra Brut Sparkling (California)</td>\n",
       "      <td>91.533279</td>\n",
       "      <td>94</td>\n",
       "    </tr>\n",
       "    <tr>\n",
       "      <th>510</th>\n",
       "      <td>Sandhi 2013 Sanford &amp; Benedict Chardonnay (Sta. Rita Hills)</td>\n",
       "      <td>91.524916</td>\n",
       "      <td>95</td>\n",
       "    </tr>\n",
       "    <tr>\n",
       "      <th>208</th>\n",
       "      <td>Dragonette 2013 MJM Syrah (Santa Ynez Valley)</td>\n",
       "      <td>91.520572</td>\n",
       "      <td>95</td>\n",
       "    </tr>\n",
       "    <tr>\n",
       "      <th>586</th>\n",
       "      <td>Laetitia 2013 La Coupelle Single Vineyard Pinot Noir (Arroyo Grande Valley)</td>\n",
       "      <td>91.517997</td>\n",
       "      <td>96</td>\n",
       "    </tr>\n",
       "  </tbody>\n",
       "</table>\n",
       "</div>"
      ],
      "text/plain": [
       "                                                                           title  \\\n",
       "375               Wayfarer 2014 Wayfarer Vineyard Chardonnay (Fort Ross-Seaview)   \n",
       "560                       Quady 2006 Starboard Dessert Wine Port (Amador County)   \n",
       "307    Ryan Cochrane 2015 Solomon Hills Vineyard Chardonnay (Santa Maria Valley)   \n",
       "35        Williams Selyem 2014 Heintz Vineyard Chardonnay (Russian River Valley)   \n",
       "207         Gary Farrell 2014 Ritchie Vineyard Chardonnay (Russian River Valley)   \n",
       "175    Ryan Cochrane 2014 Solomon Hills Vineyard Chardonnay (Santa Maria Valley)   \n",
       "536                           Schramsberg 2008 Extra Brut Sparkling (California)   \n",
       "510                  Sandhi 2013 Sanford & Benedict Chardonnay (Sta. Rita Hills)   \n",
       "208                                Dragonette 2013 MJM Syrah (Santa Ynez Valley)   \n",
       "586  Laetitia 2013 La Coupelle Single Vineyard Pinot Noir (Arroyo Grande Valley)   \n",
       "\n",
       "     matching points  points  \n",
       "375        91.689440      98  \n",
       "560        91.613462      95  \n",
       "307        91.592035      96  \n",
       "35         91.562822      96  \n",
       "207        91.547778      96  \n",
       "175        91.536482      95  \n",
       "536        91.533279      94  \n",
       "510        91.524916      95  \n",
       "208        91.520572      95  \n",
       "586        91.517997      96  "
      ]
     },
     "execution_count": 56,
     "metadata": {},
     "output_type": "execute_result"
    }
   ],
   "source": [
    "df_recommend_final = df_recommend_details.sort_values('matching points', ascending=False).drop_duplicates()\n",
    "df_recommend_final[['title', 'matching points', 'points']].head(10)"
   ]
  }
 ],
 "metadata": {
  "kernelspec": {
   "display_name": "Python 3 (ipykernel)",
   "language": "python",
   "name": "python3"
  },
  "language_info": {
   "codemirror_mode": {
    "name": "ipython",
    "version": 3
   },
   "file_extension": ".py",
   "mimetype": "text/x-python",
   "name": "python",
   "nbconvert_exporter": "python",
   "pygments_lexer": "ipython3",
   "version": "3.9.12"
  }
 },
 "nbformat": 4,
 "nbformat_minor": 5
}
