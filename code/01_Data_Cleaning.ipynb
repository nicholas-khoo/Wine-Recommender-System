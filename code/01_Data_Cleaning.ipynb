{
 "cells": [
  {
   "cell_type": "markdown",
   "id": "bf46f13e-b9e7-46b9-9707-7f9cad9c4e4c",
   "metadata": {},
   "source": [
    "# Import Libraries"
   ]
  },
  {
   "cell_type": "code",
   "execution_count": 1,
   "id": "59202b60-75a7-4c7d-87f8-2ce1252a9e65",
   "metadata": {},
   "outputs": [],
   "source": [
    "# import libraries\n",
    "import pandas as pd\n",
    "import numpy as np"
   ]
  },
  {
   "cell_type": "code",
   "execution_count": 2,
   "id": "f6b07cb4-3b74-483d-827e-07c1c319dcfe",
   "metadata": {},
   "outputs": [],
   "source": [
    "# import datasets\n",
    "wine_df = pd.read_csv('../data/winemag-data-130k-v2.csv', usecols=lambda column: column != 'Unnamed: 0')\n",
    "descriptors_df = pd.read_csv('../data/descriptor_mapping.csv', usecols=lambda column: column != 'Unnamed: 0')"
   ]
  },
  {
   "cell_type": "code",
   "execution_count": 3,
   "id": "a8bdf929-4b97-4023-8e17-068d55a73332",
   "metadata": {},
   "outputs": [],
   "source": [
    "# set to maximum column width\n",
    "pd.set_option('display.max_colwidth', None)"
   ]
  },
  {
   "cell_type": "markdown",
   "id": "3aadac7c-98da-4104-9851-e93e2c028aa0",
   "metadata": {},
   "source": [
    "___"
   ]
  },
  {
   "cell_type": "markdown",
   "id": "a63e34d2-501c-4644-9734-6f3d3dc01fe5",
   "metadata": {},
   "source": [
    "# Cleaning Wine Reviews Dataset"
   ]
  },
  {
   "cell_type": "code",
   "execution_count": 4,
   "id": "c818cbbc-d219-460f-a09b-e9deb8cdf4ea",
   "metadata": {},
   "outputs": [
    {
     "data": {
      "text/plain": [
       "(129971, 13)"
      ]
     },
     "execution_count": 4,
     "metadata": {},
     "output_type": "execute_result"
    }
   ],
   "source": [
    "# examine shape of dataset\n",
    "wine_df.shape"
   ]
  },
  {
   "cell_type": "code",
   "execution_count": 5,
   "id": "45ffcb2e-f8b3-4031-9ba7-4260f8b25868",
   "metadata": {},
   "outputs": [
    {
     "name": "stdout",
     "output_type": "stream",
     "text": [
      "<class 'pandas.core.frame.DataFrame'>\n",
      "RangeIndex: 129971 entries, 0 to 129970\n",
      "Data columns (total 13 columns):\n",
      " #   Column                 Non-Null Count   Dtype  \n",
      "---  ------                 --------------   -----  \n",
      " 0   country                129908 non-null  object \n",
      " 1   description            129971 non-null  object \n",
      " 2   designation            92506 non-null   object \n",
      " 3   points                 129971 non-null  int64  \n",
      " 4   price                  120975 non-null  float64\n",
      " 5   province               129908 non-null  object \n",
      " 6   region_1               108724 non-null  object \n",
      " 7   region_2               50511 non-null   object \n",
      " 8   taster_name            103727 non-null  object \n",
      " 9   taster_twitter_handle  98758 non-null   object \n",
      " 10  title                  129971 non-null  object \n",
      " 11  variety                129970 non-null  object \n",
      " 12  winery                 129971 non-null  object \n",
      "dtypes: float64(1), int64(1), object(11)\n",
      "memory usage: 12.9+ MB\n"
     ]
    }
   ],
   "source": [
    "# examine the columns and datatypes\n",
    "wine_df.info()"
   ]
  },
  {
   "cell_type": "code",
   "execution_count": 6,
   "id": "066891e7-4cfd-4dee-a80e-5ddac4fc717b",
   "metadata": {},
   "outputs": [
    {
     "data": {
      "text/html": [
       "<div>\n",
       "<style scoped>\n",
       "    .dataframe tbody tr th:only-of-type {\n",
       "        vertical-align: middle;\n",
       "    }\n",
       "\n",
       "    .dataframe tbody tr th {\n",
       "        vertical-align: top;\n",
       "    }\n",
       "\n",
       "    .dataframe thead th {\n",
       "        text-align: right;\n",
       "    }\n",
       "</style>\n",
       "<table border=\"1\" class=\"dataframe\">\n",
       "  <thead>\n",
       "    <tr style=\"text-align: right;\">\n",
       "      <th></th>\n",
       "      <th>country</th>\n",
       "      <th>description</th>\n",
       "      <th>designation</th>\n",
       "      <th>points</th>\n",
       "      <th>price</th>\n",
       "      <th>province</th>\n",
       "      <th>region_1</th>\n",
       "      <th>region_2</th>\n",
       "      <th>taster_name</th>\n",
       "      <th>taster_twitter_handle</th>\n",
       "      <th>title</th>\n",
       "      <th>variety</th>\n",
       "      <th>winery</th>\n",
       "    </tr>\n",
       "  </thead>\n",
       "  <tbody>\n",
       "    <tr>\n",
       "      <th>0</th>\n",
       "      <td>Italy</td>\n",
       "      <td>Aromas include tropical fruit, broom, brimstone and dried herb. The palate isn't overly expressive, offering unripened apple, citrus and dried sage alongside brisk acidity.</td>\n",
       "      <td>Vulkà Bianco</td>\n",
       "      <td>87</td>\n",
       "      <td>NaN</td>\n",
       "      <td>Sicily &amp; Sardinia</td>\n",
       "      <td>Etna</td>\n",
       "      <td>NaN</td>\n",
       "      <td>Kerin O’Keefe</td>\n",
       "      <td>@kerinokeefe</td>\n",
       "      <td>Nicosia 2013 Vulkà Bianco  (Etna)</td>\n",
       "      <td>White Blend</td>\n",
       "      <td>Nicosia</td>\n",
       "    </tr>\n",
       "    <tr>\n",
       "      <th>1</th>\n",
       "      <td>Portugal</td>\n",
       "      <td>This is ripe and fruity, a wine that is smooth while still structured. Firm tannins are filled out with juicy red berry fruits and freshened with acidity. It's  already drinkable, although it will certainly be better from 2016.</td>\n",
       "      <td>Avidagos</td>\n",
       "      <td>87</td>\n",
       "      <td>15.0</td>\n",
       "      <td>Douro</td>\n",
       "      <td>NaN</td>\n",
       "      <td>NaN</td>\n",
       "      <td>Roger Voss</td>\n",
       "      <td>@vossroger</td>\n",
       "      <td>Quinta dos Avidagos 2011 Avidagos Red (Douro)</td>\n",
       "      <td>Portuguese Red</td>\n",
       "      <td>Quinta dos Avidagos</td>\n",
       "    </tr>\n",
       "  </tbody>\n",
       "</table>\n",
       "</div>"
      ],
      "text/plain": [
       "    country  \\\n",
       "0     Italy   \n",
       "1  Portugal   \n",
       "\n",
       "                                                                                                                                                                                                                           description  \\\n",
       "0                                                         Aromas include tropical fruit, broom, brimstone and dried herb. The palate isn't overly expressive, offering unripened apple, citrus and dried sage alongside brisk acidity.   \n",
       "1  This is ripe and fruity, a wine that is smooth while still structured. Firm tannins are filled out with juicy red berry fruits and freshened with acidity. It's  already drinkable, although it will certainly be better from 2016.   \n",
       "\n",
       "    designation  points  price           province region_1 region_2  \\\n",
       "0  Vulkà Bianco      87    NaN  Sicily & Sardinia     Etna      NaN   \n",
       "1      Avidagos      87   15.0              Douro      NaN      NaN   \n",
       "\n",
       "     taster_name taster_twitter_handle  \\\n",
       "0  Kerin O’Keefe          @kerinokeefe   \n",
       "1     Roger Voss            @vossroger   \n",
       "\n",
       "                                           title         variety  \\\n",
       "0              Nicosia 2013 Vulkà Bianco  (Etna)     White Blend   \n",
       "1  Quinta dos Avidagos 2011 Avidagos Red (Douro)  Portuguese Red   \n",
       "\n",
       "                winery  \n",
       "0              Nicosia  \n",
       "1  Quinta dos Avidagos  "
      ]
     },
     "execution_count": 6,
     "metadata": {},
     "output_type": "execute_result"
    }
   ],
   "source": [
    "wine_df.head(2)"
   ]
  },
  {
   "cell_type": "markdown",
   "id": "42740c03-0a89-44e5-b6fc-34cacb274ff7",
   "metadata": {},
   "source": [
    "## Drop Duplicates"
   ]
  },
  {
   "cell_type": "code",
   "execution_count": 7,
   "id": "e8f878df-682d-4001-9686-947d87665650",
   "metadata": {},
   "outputs": [
    {
     "data": {
      "text/plain": [
       "11131"
      ]
     },
     "execution_count": 7,
     "metadata": {},
     "output_type": "execute_result"
    }
   ],
   "source": [
    "# count the number of duplicates based on title\n",
    "num_duplicates = wine_df.duplicated(subset=['title']).sum()\n",
    "num_duplicates"
   ]
  },
  {
   "cell_type": "code",
   "execution_count": 8,
   "id": "d95ae0b6-0129-490a-901f-566a48a91093",
   "metadata": {},
   "outputs": [
    {
     "data": {
      "text/plain": [
       "8.564218171746004"
      ]
     },
     "execution_count": 8,
     "metadata": {},
     "output_type": "execute_result"
    }
   ],
   "source": [
    "# calculate the percentage of duplicate rows\n",
    "num_rows = len(wine_df)\n",
    "percent_duplicates = (num_duplicates / num_rows) * 100\n",
    "percent_duplicates"
   ]
  },
  {
   "cell_type": "markdown",
   "id": "d32c89d1-5b0e-4e63-911e-5c0a02990784",
   "metadata": {},
   "source": [
    "___Notes:___\n",
    "\n",
    "Only a small percentage of the dataset are made up of duplicated records and is not expected to significantly impact the quality or accuracy of the recommender system. Thus, the records will be retained."
   ]
  },
  {
   "cell_type": "markdown",
   "id": "57baaf39-719a-4b4c-b0cd-6ffb5e137866",
   "metadata": {},
   "source": [
    "## Drop taster_twitter_handle"
   ]
  },
  {
   "cell_type": "code",
   "execution_count": 9,
   "id": "af454cba-0131-4eb7-8e7b-1a747309c257",
   "metadata": {},
   "outputs": [],
   "source": [
    "# drop the taster_twitter_handle column\n",
    "wine_df = wine_df.drop('taster_twitter_handle', axis=1)"
   ]
  },
  {
   "cell_type": "markdown",
   "id": "13f6be30-1fd3-49ae-b95d-8069179ada03",
   "metadata": {},
   "source": [
    "___Notes:___\n",
    "\n",
    "taster_name is an existing column and thus, taster_twitter_handle will be dropped as it is not required for the analysis."
   ]
  },
  {
   "cell_type": "markdown",
   "id": "7547885c-b38f-415d-9d49-c4544fe13088",
   "metadata": {},
   "source": [
    "## Check for null values"
   ]
  },
  {
   "cell_type": "code",
   "execution_count": 10,
   "id": "05aa8b96-d7eb-4753-ad34-93b811769e71",
   "metadata": {},
   "outputs": [
    {
     "data": {
      "text/plain": [
       "country           63\n",
       "description        0\n",
       "designation    37465\n",
       "points             0\n",
       "price           8996\n",
       "province          63\n",
       "region_1       21247\n",
       "region_2       79460\n",
       "taster_name    26244\n",
       "title              0\n",
       "variety            1\n",
       "winery             0\n",
       "dtype: int64"
      ]
     },
     "execution_count": 10,
     "metadata": {},
     "output_type": "execute_result"
    }
   ],
   "source": [
    "# check for null values\n",
    "wine_df.isnull().sum()"
   ]
  },
  {
   "cell_type": "code",
   "execution_count": 11,
   "id": "4a761b6b-2342-41f0-bf9d-8a53ddc08052",
   "metadata": {},
   "outputs": [],
   "source": [
    "# drop null values\n",
    "wine_df.dropna(inplace=True)"
   ]
  },
  {
   "cell_type": "markdown",
   "id": "dcccd21d-0216-4659-b231-09a5a37da653",
   "metadata": {},
   "source": [
    "___Notes:___\n",
    "\n",
    "Null values do not value-add to the recommender system or analysis. As such, they will be dropped."
   ]
  },
  {
   "cell_type": "markdown",
   "id": "95f3ebdf-7cea-4842-bc99-b30ca277ecce",
   "metadata": {},
   "source": [
    "## Filter for wine ratings > 88 points"
   ]
  },
  {
   "cell_type": "code",
   "execution_count": 12,
   "id": "b74489f9-cf38-4887-88f9-3b9199a39a63",
   "metadata": {},
   "outputs": [],
   "source": [
    "# Filter the dataframe to only include wines with ratings greater than 88\n",
    "wine_df = wine_df[wine_df['points'] > 88]"
   ]
  },
  {
   "cell_type": "markdown",
   "id": "b189f326-9455-491d-80c5-1220dfe63a95",
   "metadata": {},
   "source": [
    "___Notes:___\n",
    "\n",
    "The recommender system is only interested to recommend wine of high quality. As such, only wines with points greater than 88 will be retained. More information can be found in the data dictionary below."
   ]
  },
  {
   "cell_type": "markdown",
   "id": "7594d936-6c5d-47e9-bf91-cb7f1ef1a708",
   "metadata": {},
   "source": [
    "## Export dataset"
   ]
  },
  {
   "cell_type": "code",
   "execution_count": 13,
   "id": "4a7a55d8-f137-4254-a665-488db60ac201",
   "metadata": {},
   "outputs": [],
   "source": [
    "# export new, cleaned dataframe\n",
    "wine_df.to_csv('../data/filtered_wine.csv', index=False)"
   ]
  },
  {
   "cell_type": "markdown",
   "id": "05b39506-f49e-41b5-8fd1-4cf9ca79c05d",
   "metadata": {},
   "source": [
    "___"
   ]
  },
  {
   "cell_type": "markdown",
   "id": "ac078aed-ccc0-4414-9492-4f765f5e2c07",
   "metadata": {},
   "source": [
    "# Cleaning Descriptors Dataset"
   ]
  },
  {
   "cell_type": "code",
   "execution_count": 14,
   "id": "f6511768-c166-4259-a71b-cb51e7e3c4cd",
   "metadata": {},
   "outputs": [
    {
     "name": "stdout",
     "output_type": "stream",
     "text": [
      "<class 'pandas.core.frame.DataFrame'>\n",
      "RangeIndex: 1015 entries, 0 to 1014\n",
      "Data columns (total 4 columns):\n",
      " #   Column          Non-Null Count  Dtype \n",
      "---  ------          --------------  ----- \n",
      " 0   raw descriptor  1015 non-null   object\n",
      " 1   level_3         1015 non-null   object\n",
      " 2   level_2         1015 non-null   object\n",
      " 3   level_1         1015 non-null   object\n",
      "dtypes: object(4)\n",
      "memory usage: 31.8+ KB\n"
     ]
    }
   ],
   "source": [
    "# examine the columns and datatypes\n",
    "descriptors_df.info()"
   ]
  },
  {
   "cell_type": "code",
   "execution_count": 15,
   "id": "d542cc2a-be50-4083-a736-f1ec0fae4c9e",
   "metadata": {},
   "outputs": [
    {
     "data": {
      "text/plain": [
       "raw descriptor    0\n",
       "level_3           0\n",
       "level_2           0\n",
       "level_1           0\n",
       "dtype: int64"
      ]
     },
     "execution_count": 15,
     "metadata": {},
     "output_type": "execute_result"
    }
   ],
   "source": [
    "# check for null values\n",
    "descriptors_df.isnull().sum()"
   ]
  },
  {
   "cell_type": "markdown",
   "id": "b5dc8a32-e9a0-4b3d-969f-bbeeb457f5d4",
   "metadata": {},
   "source": [
    "___"
   ]
  },
  {
   "cell_type": "markdown",
   "id": "4fbb4c47-6468-49a8-add6-3978a5fb7ca9",
   "metadata": {},
   "source": [
    "# Data Dictionary"
   ]
  },
  {
   "cell_type": "markdown",
   "id": "3e228153-96b0-43ad-9988-d522b2db179f",
   "metadata": {},
   "source": [
    "## Wine Reviews"
   ]
  },
  {
   "cell_type": "markdown",
   "id": "b8503323-b35c-4d41-bbed-6f5cfb1925b0",
   "metadata": {},
   "source": [
    "|Feature|Type|Description|\n",
    "|---|---|---|\n",
    "|country|object|The country where the wine was produced.|\n",
    "|description|object|Description of the wine's characteristics and tasting notes|\n",
    "|designation|object|The vineyard within the winery where the grapes for the wine were sourced from.|\n",
    "|points|int64|The number of points assigned to the wine on a scale of 1-100 by the wine reviewer.|\n",
    "|price|float64|The price of a bottle of the wine.|\n",
    "|province|object|The province or state within the country where the wine was produced.|\n",
    "|region_1|object|The first-level region within the province or state where the wine was produced (e.g. Napa Valley).|\n",
    "|region_2|object|The second-level region within the province or state where the wine was produced (e.g. Rutherford within Napa Valley).|\n",
    "|taster_name|object|The name of the wine reviewer.|\n",
    "|taster_Twitter_handle|object|The Twitter handle of the wine reviewer.|\n",
    "|title|object|The title of the wine review.|\n",
    "|variety|object|The type of grape used to produce the wine.|\n",
    "|winery|object|The name of the winery that produced the wine.|"
   ]
  },
  {
   "cell_type": "markdown",
   "id": "f794f168-c4fb-40a7-9004-65da12fc1a26",
   "metadata": {},
   "source": [
    "## Wine Points System"
   ]
  },
  {
   "cell_type": "markdown",
   "id": "1ec55736-470f-4b80-bbbc-d4b6a46faa3e",
   "metadata": {},
   "source": [
    "Source: https://www.wine-searcher.com/wine-scores\n",
    "\n",
    "|Points|Description|\n",
    "|---|---|\n",
    "|95-100|Wines are benchmark examples or ‘classic’.|\n",
    "|90-94|Wines are ‘superior’ to ‘exceptional’.|\n",
    "|85-89|Wines are ‘good’ to ‘very good’.|\n",
    "|80-84|Wines are ‘above average’ to ‘good’.|\n",
    "|70-79|Wines are flawed and taste average.|\n",
    "|60-69|Wines are flawed and not recommended but drinkable.|\n",
    "|50-59|Wines are flawed and undrinkable.|"
   ]
  },
  {
   "cell_type": "markdown",
   "id": "ef07ebc3-0ee0-451f-9872-1a4dc1925e9d",
   "metadata": {},
   "source": [
    "## Descriptors"
   ]
  },
  {
   "cell_type": "markdown",
   "id": "43a372b7-3729-484f-9919-a1fd7bf9dc1c",
   "metadata": {},
   "source": [
    "|Feature|Type|Description|\n",
    "|---|---|---|\n",
    "|raw descriptor|object|A descriptor for a sensory attribute of the food or drink being evaluated (e.g. \"sweetness\", \"acidity\", \"herbaceousness\", etc.).|\n",
    "|level_3|object|A subcategory of the descriptor that provides additional detail about the attribute being evaluated (e.g. \"fruit sweetness\" for the \"sweetness\" descriptor).|\n",
    "|level_2|object|A broader category that groups together related descriptors and level_3 subcategories (e.g. \"flavor\").|\n",
    "|level_1|object|The highest level of categorization that groups together the level_2 categories (e.g. \"aroma and flavor\").|"
   ]
  }
 ],
 "metadata": {
  "kernelspec": {
   "display_name": "Python 3 (ipykernel)",
   "language": "python",
   "name": "python3"
  },
  "language_info": {
   "codemirror_mode": {
    "name": "ipython",
    "version": 3
   },
   "file_extension": ".py",
   "mimetype": "text/x-python",
   "name": "python",
   "nbconvert_exporter": "python",
   "pygments_lexer": "ipython3",
   "version": "3.9.12"
  }
 },
 "nbformat": 4,
 "nbformat_minor": 5
}
